{
 "nbformat": 4,
 "nbformat_minor": 0,
 "metadata": {
  "kernelspec": {
   "display_name": "Python 3",
   "language": "python",
   "name": "python3"
  },
  "language_info": {
   "codemirror_mode": {
    "name": "ipython",
    "version": 3
   },
   "file_extension": ".py",
   "mimetype": "text/x-python",
   "name": "python",
   "nbconvert_exporter": "python",
   "pygments_lexer": "ipython3",
   "version": "3.6.10"
  },
  "colab": {
   "name": "12-2_Kmeans-Quiz.ipynb",
   "provenance": [],
   "collapsed_sections": []
  }
 },
 "cells": [
  {
   "cell_type": "markdown",
   "metadata": {
    "id": "zcZeo7-sls68"
   },
   "source": [
    "# Kmeans"
   ]
  },
  {
   "cell_type": "code",
   "metadata": {
    "id": "ySWzxGMxuFZU",
    "colab": {
     "base_uri": "https://localhost:8080/"
    },
    "executionInfo": {
     "status": "ok",
     "timestamp": 1654582748697,
     "user_tz": -540,
     "elapsed": 22516,
     "user": {
      "displayName": "신호중",
      "userId": "00793881806762787903"
     }
    },
    "outputId": "5727fc58-b368-4890-cf63-4d853047b75c"
   },
   "source": [
    "from google.colab import drive\n",
    "drive.mount('/content/drive')\n",
    "\n",
    "basicpath = '/content/drive/MyDrive/Univ/4-1/Data Science/Practice/12주차/'"
   ],
   "execution_count": 1,
   "outputs": [
    {
     "output_type": "stream",
     "name": "stdout",
     "text": [
      "Mounted at /content/drive\n"
     ]
    }
   ]
  },
  {
   "cell_type": "code",
   "metadata": {
    "id": "cxL9lPRTls7F",
    "executionInfo": {
     "status": "ok",
     "timestamp": 1654583633970,
     "user_tz": -540,
     "elapsed": 425,
     "user": {
      "displayName": "신호중",
      "userId": "00793881806762787903"
     }
    }
   },
   "source": [
    "import pandas as pd\n",
    "import numpy as np\n",
    "import os\n",
    "from sklearn.metrics import pairwise_distances"
   ],
   "execution_count": 9,
   "outputs": []
  },
  {
   "cell_type": "markdown",
   "metadata": {
    "id": "RS6zIqiCls7G"
   },
   "source": [
    "## Data import 및 확인"
   ]
  },
  {
   "cell_type": "code",
   "metadata": {
    "id": "ddx9V8GNls7G",
    "executionInfo": {
     "status": "ok",
     "timestamp": 1654582755037,
     "user_tz": -540,
     "elapsed": 2200,
     "user": {
      "displayName": "신호중",
      "userId": "00793881806762787903"
     }
    }
   },
   "source": [
    "file = 'input_quiz.csv'\n",
    "\n",
    "data = pd.read_csv(os.path.join(basicpath, file), index_col=None)"
   ],
   "execution_count": 3,
   "outputs": []
  },
  {
   "cell_type": "code",
   "metadata": {
    "id": "rhOJQIGzls7H",
    "colab": {
     "base_uri": "https://localhost:8080/",
     "height": 363
    },
    "executionInfo": {
     "status": "ok",
     "timestamp": 1654582755038,
     "user_tz": -540,
     "elapsed": 24,
     "user": {
      "displayName": "신호중",
      "userId": "00793881806762787903"
     }
    },
    "outputId": "7ec63528-e064-47b3-cf1e-ad940cd4712b"
   },
   "source": [
    "data.head(10)"
   ],
   "execution_count": 4,
   "outputs": [
    {
     "output_type": "execute_result",
     "data": {
      "text/plain": [
       "           x          y\n",
       "0  69.937766  31.570952\n",
       "1  20.356235  45.934504\n",
       "2  72.468891  33.579962\n",
       "3  70.737504  29.462956\n",
       "4  53.236145   8.314857\n",
       "5  49.983086   6.977777\n",
       "6  40.685368  36.066633\n",
       "7  20.298744  34.252849\n",
       "8  51.668822   8.197806\n",
       "9  18.270403  23.540949"
      ],
      "text/html": [
       "\n",
       "  <div id=\"df-d04ea478-2d15-49e2-9a50-0a308a95d7d8\">\n",
       "    <div class=\"colab-df-container\">\n",
       "      <div>\n",
       "<style scoped>\n",
       "    .dataframe tbody tr th:only-of-type {\n",
       "        vertical-align: middle;\n",
       "    }\n",
       "\n",
       "    .dataframe tbody tr th {\n",
       "        vertical-align: top;\n",
       "    }\n",
       "\n",
       "    .dataframe thead th {\n",
       "        text-align: right;\n",
       "    }\n",
       "</style>\n",
       "<table border=\"1\" class=\"dataframe\">\n",
       "  <thead>\n",
       "    <tr style=\"text-align: right;\">\n",
       "      <th></th>\n",
       "      <th>x</th>\n",
       "      <th>y</th>\n",
       "    </tr>\n",
       "  </thead>\n",
       "  <tbody>\n",
       "    <tr>\n",
       "      <th>0</th>\n",
       "      <td>69.937766</td>\n",
       "      <td>31.570952</td>\n",
       "    </tr>\n",
       "    <tr>\n",
       "      <th>1</th>\n",
       "      <td>20.356235</td>\n",
       "      <td>45.934504</td>\n",
       "    </tr>\n",
       "    <tr>\n",
       "      <th>2</th>\n",
       "      <td>72.468891</td>\n",
       "      <td>33.579962</td>\n",
       "    </tr>\n",
       "    <tr>\n",
       "      <th>3</th>\n",
       "      <td>70.737504</td>\n",
       "      <td>29.462956</td>\n",
       "    </tr>\n",
       "    <tr>\n",
       "      <th>4</th>\n",
       "      <td>53.236145</td>\n",
       "      <td>8.314857</td>\n",
       "    </tr>\n",
       "    <tr>\n",
       "      <th>5</th>\n",
       "      <td>49.983086</td>\n",
       "      <td>6.977777</td>\n",
       "    </tr>\n",
       "    <tr>\n",
       "      <th>6</th>\n",
       "      <td>40.685368</td>\n",
       "      <td>36.066633</td>\n",
       "    </tr>\n",
       "    <tr>\n",
       "      <th>7</th>\n",
       "      <td>20.298744</td>\n",
       "      <td>34.252849</td>\n",
       "    </tr>\n",
       "    <tr>\n",
       "      <th>8</th>\n",
       "      <td>51.668822</td>\n",
       "      <td>8.197806</td>\n",
       "    </tr>\n",
       "    <tr>\n",
       "      <th>9</th>\n",
       "      <td>18.270403</td>\n",
       "      <td>23.540949</td>\n",
       "    </tr>\n",
       "  </tbody>\n",
       "</table>\n",
       "</div>\n",
       "      <button class=\"colab-df-convert\" onclick=\"convertToInteractive('df-d04ea478-2d15-49e2-9a50-0a308a95d7d8')\"\n",
       "              title=\"Convert this dataframe to an interactive table.\"\n",
       "              style=\"display:none;\">\n",
       "        \n",
       "  <svg xmlns=\"http://www.w3.org/2000/svg\" height=\"24px\"viewBox=\"0 0 24 24\"\n",
       "       width=\"24px\">\n",
       "    <path d=\"M0 0h24v24H0V0z\" fill=\"none\"/>\n",
       "    <path d=\"M18.56 5.44l.94 2.06.94-2.06 2.06-.94-2.06-.94-.94-2.06-.94 2.06-2.06.94zm-11 1L8.5 8.5l.94-2.06 2.06-.94-2.06-.94L8.5 2.5l-.94 2.06-2.06.94zm10 10l.94 2.06.94-2.06 2.06-.94-2.06-.94-.94-2.06-.94 2.06-2.06.94z\"/><path d=\"M17.41 7.96l-1.37-1.37c-.4-.4-.92-.59-1.43-.59-.52 0-1.04.2-1.43.59L10.3 9.45l-7.72 7.72c-.78.78-.78 2.05 0 2.83L4 21.41c.39.39.9.59 1.41.59.51 0 1.02-.2 1.41-.59l7.78-7.78 2.81-2.81c.8-.78.8-2.07 0-2.86zM5.41 20L4 18.59l7.72-7.72 1.47 1.35L5.41 20z\"/>\n",
       "  </svg>\n",
       "      </button>\n",
       "      \n",
       "  <style>\n",
       "    .colab-df-container {\n",
       "      display:flex;\n",
       "      flex-wrap:wrap;\n",
       "      gap: 12px;\n",
       "    }\n",
       "\n",
       "    .colab-df-convert {\n",
       "      background-color: #E8F0FE;\n",
       "      border: none;\n",
       "      border-radius: 50%;\n",
       "      cursor: pointer;\n",
       "      display: none;\n",
       "      fill: #1967D2;\n",
       "      height: 32px;\n",
       "      padding: 0 0 0 0;\n",
       "      width: 32px;\n",
       "    }\n",
       "\n",
       "    .colab-df-convert:hover {\n",
       "      background-color: #E2EBFA;\n",
       "      box-shadow: 0px 1px 2px rgba(60, 64, 67, 0.3), 0px 1px 3px 1px rgba(60, 64, 67, 0.15);\n",
       "      fill: #174EA6;\n",
       "    }\n",
       "\n",
       "    [theme=dark] .colab-df-convert {\n",
       "      background-color: #3B4455;\n",
       "      fill: #D2E3FC;\n",
       "    }\n",
       "\n",
       "    [theme=dark] .colab-df-convert:hover {\n",
       "      background-color: #434B5C;\n",
       "      box-shadow: 0px 1px 3px 1px rgba(0, 0, 0, 0.15);\n",
       "      filter: drop-shadow(0px 1px 2px rgba(0, 0, 0, 0.3));\n",
       "      fill: #FFFFFF;\n",
       "    }\n",
       "  </style>\n",
       "\n",
       "      <script>\n",
       "        const buttonEl =\n",
       "          document.querySelector('#df-d04ea478-2d15-49e2-9a50-0a308a95d7d8 button.colab-df-convert');\n",
       "        buttonEl.style.display =\n",
       "          google.colab.kernel.accessAllowed ? 'block' : 'none';\n",
       "\n",
       "        async function convertToInteractive(key) {\n",
       "          const element = document.querySelector('#df-d04ea478-2d15-49e2-9a50-0a308a95d7d8');\n",
       "          const dataTable =\n",
       "            await google.colab.kernel.invokeFunction('convertToInteractive',\n",
       "                                                     [key], {});\n",
       "          if (!dataTable) return;\n",
       "\n",
       "          const docLinkHtml = 'Like what you see? Visit the ' +\n",
       "            '<a target=\"_blank\" href=https://colab.research.google.com/notebooks/data_table.ipynb>data table notebook</a>'\n",
       "            + ' to learn more about interactive tables.';\n",
       "          element.innerHTML = '';\n",
       "          dataTable['output_type'] = 'display_data';\n",
       "          await google.colab.output.renderOutput(dataTable, element);\n",
       "          const docLink = document.createElement('div');\n",
       "          docLink.innerHTML = docLinkHtml;\n",
       "          element.appendChild(docLink);\n",
       "        }\n",
       "      </script>\n",
       "    </div>\n",
       "  </div>\n",
       "  "
      ]
     },
     "metadata": {},
     "execution_count": 4
    }
   ]
  },
  {
   "cell_type": "markdown",
   "metadata": {
    "id": "cIAR4Z21ls7H"
   },
   "source": [
    "## Data scatter plot으로 확인"
   ]
  },
  {
   "cell_type": "code",
   "metadata": {
    "id": "eoTIbaNNls7H",
    "executionInfo": {
     "status": "ok",
     "timestamp": 1654582763343,
     "user_tz": -540,
     "elapsed": 482,
     "user": {
      "displayName": "신호중",
      "userId": "00793881806762787903"
     }
    }
   },
   "source": [
    "x = data['x']\n",
    "y = data['y']"
   ],
   "execution_count": 5,
   "outputs": []
  },
  {
   "cell_type": "code",
   "metadata": {
    "id": "UsT58g5wls7I",
    "executionInfo": {
     "status": "ok",
     "timestamp": 1654582763787,
     "user_tz": -540,
     "elapsed": 14,
     "user": {
      "displayName": "신호중",
      "userId": "00793881806762787903"
     }
    }
   },
   "source": [
    "import matplotlib.pyplot as plt"
   ],
   "execution_count": 6,
   "outputs": []
  },
  {
   "cell_type": "code",
   "metadata": {
    "id": "jFSQFj_Gls7I",
    "colab": {
     "base_uri": "https://localhost:8080/",
     "height": 503
    },
    "executionInfo": {
     "status": "ok",
     "timestamp": 1654582764369,
     "user_tz": -540,
     "elapsed": 594,
     "user": {
      "displayName": "신호중",
      "userId": "00793881806762787903"
     }
    },
    "outputId": "0f70434b-86af-4231-a43c-9f1b11c19982"
   },
   "source": [
    "plt.figure(figsize=[8, 8])\n",
    "plt.scatter(x, y, s=1, c='b')\n",
    "plt.xlabel(\"$X$\", fontsize=15)\n",
    "plt.ylabel(\"$Y$\", fontsize=15, rotation=0)\n",
    "plt.show()"
   ],
   "execution_count": 7,
   "outputs": [
    {
     "output_type": "display_data",
     "data": {
      "text/plain": [
       "<Figure size 576x576 with 1 Axes>"
      ],
      "image/png": "[encoded data removed]"
     },
     "metadata": {
      "needs_background": "light"
     }
    }
   ]
  },
  {
   "cell_type": "markdown",
   "metadata": {
    "id": "-kaKwpalls7I"
   },
   "source": [
    "## 과제1. Kmeans 알고리즘 구현\n",
    "다음 코드의 빈칸을 완성하여 Kmeans 알고리즘을 완성하시오."
   ]
  },
  {
   "cell_type": "code",
   "metadata": {
    "id": "4sEJzcLils7J",
    "executionInfo": {
     "status": "ok",
     "timestamp": 1654584839618,
     "user_tz": -540,
     "elapsed": 568,
     "user": {
      "displayName": "신호중",
      "userId": "00793881806762787903"
     }
    }
   },
   "source": [
    "def distance(a, b):\n",
    "    \"\"\" 두 array x, y간의 row 끼리에 대한 L2 distance를 계산하여 \n",
    "    계산한 distance들을 array로 저장하여 반환.\n",
    "    x와 y간 broadcasting이 가능한 경우 broadcasting하여 계산\n",
    "    \n",
    "    Parameters\n",
    "    ----------\n",
    "    x: np.array\n",
    "        각 row에 하나의 data point가 저장\n",
    "    y: np.array\n",
    "        각 row에 하나의 data point가 저장\n",
    "    \n",
    "    Returns\n",
    "    ----------\n",
    "    np.array\n",
    "        x와 y가 각각 (m, n) 형태의 array일때, \n",
    "        x와 y의 row들에 대한 L2 distance를 저장하여\n",
    "        (m, 1)의 형태로 저장하여 반환\n",
    "        \n",
    "        x혹은 y중 하나가 (1, n)형태일 경우 \n",
    "        broadcasting하여 (m, 1)형태로 반환\n",
    "    \"\"\"\n",
    "\n",
    "    #답변 1\n",
    "    # distances = np.sum((a - b) ** 2, axis=1) ** 0.5\n",
    "    distances = pairwise_distances(a, b)\n",
    "    return distances"
   ],
   "execution_count": 26,
   "outputs": []
  },
  {
   "cell_type": "markdown",
   "metadata": {
    "id": "8ehVpFBp1K3b"
   },
   "source": [
    "#### 출력 예시\n",
    "\n",
    "a = np.array([1,2])  \n",
    "b = np.array([[1,2], [1,3], [4,6]])  \n",
    "distance(a, b)   \n",
    "\\>> array([0., 1., 5.])"
   ]
  },
  {
   "cell_type": "code",
   "source": [
    "a = np.array([1,2])\n",
    "b = np.array([[1,2], [1,3], [4,6]])\n",
    "distance(a, b)"
   ],
   "metadata": {
    "id": "_pjZCSQv91r-",
    "executionInfo": {
     "status": "error",
     "timestamp": 1654585254927,
     "user_tz": -540,
     "elapsed": 604,
     "user": {
      "displayName": "신호중",
      "userId": "00793881806762787903"
     }
    },
    "outputId": "225eecb3-bf43-465e-f440-9c8f55976709",
    "colab": {
     "base_uri": "https://localhost:8080/",
     "height": 407
    }
   },
   "execution_count": 30,
   "outputs": [
    {
     "output_type": "error",
     "ename": "ValueError",
     "evalue": "ignored",
     "traceback": [
      "\u001B[0;31m---------------------------------------------------------------------------\u001B[0m",
      "\u001B[0;31mValueError\u001B[0m                                Traceback (most recent call last)",
      "\u001B[0;32m<ipython-input-30-6c555461c0a7>\u001B[0m in \u001B[0;36m<module>\u001B[0;34m()\u001B[0m\n\u001B[1;32m      1\u001B[0m \u001B[0ma\u001B[0m \u001B[0;34m=\u001B[0m \u001B[0mnp\u001B[0m\u001B[0;34m.\u001B[0m\u001B[0marray\u001B[0m\u001B[0;34m(\u001B[0m\u001B[0;34m[\u001B[0m\u001B[0;36m1\u001B[0m\u001B[0;34m,\u001B[0m\u001B[0;36m2\u001B[0m\u001B[0;34m]\u001B[0m\u001B[0;34m)\u001B[0m\u001B[0;34m\u001B[0m\u001B[0;34m\u001B[0m\u001B[0m\n\u001B[1;32m      2\u001B[0m \u001B[0mb\u001B[0m \u001B[0;34m=\u001B[0m \u001B[0mnp\u001B[0m\u001B[0;34m.\u001B[0m\u001B[0marray\u001B[0m\u001B[0;34m(\u001B[0m\u001B[0;34m[\u001B[0m\u001B[0;34m[\u001B[0m\u001B[0;36m1\u001B[0m\u001B[0;34m,\u001B[0m\u001B[0;36m2\u001B[0m\u001B[0;34m]\u001B[0m\u001B[0;34m,\u001B[0m \u001B[0;34m[\u001B[0m\u001B[0;36m1\u001B[0m\u001B[0;34m,\u001B[0m\u001B[0;36m3\u001B[0m\u001B[0;34m]\u001B[0m\u001B[0;34m,\u001B[0m \u001B[0;34m[\u001B[0m\u001B[0;36m4\u001B[0m\u001B[0;34m,\u001B[0m\u001B[0;36m6\u001B[0m\u001B[0;34m]\u001B[0m\u001B[0;34m]\u001B[0m\u001B[0;34m)\u001B[0m\u001B[0;34m\u001B[0m\u001B[0;34m\u001B[0m\u001B[0m\n\u001B[0;32m----> 3\u001B[0;31m \u001B[0mdistance\u001B[0m\u001B[0;34m(\u001B[0m\u001B[0ma\u001B[0m\u001B[0;34m,\u001B[0m \u001B[0mb\u001B[0m\u001B[0;34m)\u001B[0m\u001B[0;34m\u001B[0m\u001B[0;34m\u001B[0m\u001B[0m\n\u001B[0m",
      "\u001B[0;32m<ipython-input-26-acebf93bf4fc>\u001B[0m in \u001B[0;36mdistance\u001B[0;34m(a, b)\u001B[0m\n\u001B[1;32m     24\u001B[0m     \u001B[0;31m#답변 1\u001B[0m\u001B[0;34m\u001B[0m\u001B[0;34m\u001B[0m\u001B[0;34m\u001B[0m\u001B[0m\n\u001B[1;32m     25\u001B[0m     \u001B[0;31m# distances = np.sum((a - b) ** 2, axis=1) ** 0.5\u001B[0m\u001B[0;34m\u001B[0m\u001B[0;34m\u001B[0m\u001B[0;34m\u001B[0m\u001B[0m\n\u001B[0;32m---> 26\u001B[0;31m     \u001B[0mdistances\u001B[0m \u001B[0;34m=\u001B[0m \u001B[0mpairwise_distances\u001B[0m\u001B[0;34m(\u001B[0m\u001B[0ma\u001B[0m\u001B[0;34m,\u001B[0m \u001B[0mb\u001B[0m\u001B[0;34m)\u001B[0m\u001B[0;34m\u001B[0m\u001B[0;34m\u001B[0m\u001B[0m\n\u001B[0m\u001B[1;32m     27\u001B[0m     \u001B[0;32mreturn\u001B[0m \u001B[0mdistances\u001B[0m\u001B[0;34m\u001B[0m\u001B[0;34m\u001B[0m\u001B[0m\n",
      "\u001B[0;32m/usr/local/lib/python3.7/dist-packages/sklearn/metrics/pairwise.py\u001B[0m in \u001B[0;36mpairwise_distances\u001B[0;34m(X, Y, metric, n_jobs, force_all_finite, **kwds)\u001B[0m\n\u001B[1;32m   1887\u001B[0m         \u001B[0mfunc\u001B[0m \u001B[0;34m=\u001B[0m \u001B[0mpartial\u001B[0m\u001B[0;34m(\u001B[0m\u001B[0mdistance\u001B[0m\u001B[0;34m.\u001B[0m\u001B[0mcdist\u001B[0m\u001B[0;34m,\u001B[0m \u001B[0mmetric\u001B[0m\u001B[0;34m=\u001B[0m\u001B[0mmetric\u001B[0m\u001B[0;34m,\u001B[0m \u001B[0;34m**\u001B[0m\u001B[0mkwds\u001B[0m\u001B[0;34m)\u001B[0m\u001B[0;34m\u001B[0m\u001B[0;34m\u001B[0m\u001B[0m\n\u001B[1;32m   1888\u001B[0m \u001B[0;34m\u001B[0m\u001B[0m\n\u001B[0;32m-> 1889\u001B[0;31m     \u001B[0;32mreturn\u001B[0m \u001B[0m_parallel_pairwise\u001B[0m\u001B[0;34m(\u001B[0m\u001B[0mX\u001B[0m\u001B[0;34m,\u001B[0m \u001B[0mY\u001B[0m\u001B[0;34m,\u001B[0m \u001B[0mfunc\u001B[0m\u001B[0;34m,\u001B[0m \u001B[0mn_jobs\u001B[0m\u001B[0;34m,\u001B[0m \u001B[0;34m**\u001B[0m\u001B[0mkwds\u001B[0m\u001B[0;34m)\u001B[0m\u001B[0;34m\u001B[0m\u001B[0;34m\u001B[0m\u001B[0m\n\u001B[0m\u001B[1;32m   1890\u001B[0m \u001B[0;34m\u001B[0m\u001B[0m\n\u001B[1;32m   1891\u001B[0m \u001B[0;34m\u001B[0m\u001B[0m\n",
      "\u001B[0;32m/usr/local/lib/python3.7/dist-packages/sklearn/metrics/pairwise.py\u001B[0m in \u001B[0;36m_parallel_pairwise\u001B[0;34m(X, Y, func, n_jobs, **kwds)\u001B[0m\n\u001B[1;32m   1428\u001B[0m \u001B[0;34m\u001B[0m\u001B[0m\n\u001B[1;32m   1429\u001B[0m     \u001B[0;32mif\u001B[0m \u001B[0meffective_n_jobs\u001B[0m\u001B[0;34m(\u001B[0m\u001B[0mn_jobs\u001B[0m\u001B[0;34m)\u001B[0m \u001B[0;34m==\u001B[0m \u001B[0;36m1\u001B[0m\u001B[0;34m:\u001B[0m\u001B[0;34m\u001B[0m\u001B[0;34m\u001B[0m\u001B[0m\n\u001B[0;32m-> 1430\u001B[0;31m         \u001B[0;32mreturn\u001B[0m \u001B[0mfunc\u001B[0m\u001B[0;34m(\u001B[0m\u001B[0mX\u001B[0m\u001B[0;34m,\u001B[0m \u001B[0mY\u001B[0m\u001B[0;34m,\u001B[0m \u001B[0;34m**\u001B[0m\u001B[0mkwds\u001B[0m\u001B[0;34m)\u001B[0m\u001B[0;34m\u001B[0m\u001B[0;34m\u001B[0m\u001B[0m\n\u001B[0m\u001B[1;32m   1431\u001B[0m \u001B[0;34m\u001B[0m\u001B[0m\n\u001B[1;32m   1432\u001B[0m     \u001B[0;31m# enforce a threading backend to prevent data communication overhead\u001B[0m\u001B[0;34m\u001B[0m\u001B[0;34m\u001B[0m\u001B[0;34m\u001B[0m\u001B[0m\n",
      "\u001B[0;32m/usr/local/lib/python3.7/dist-packages/sklearn/metrics/pairwise.py\u001B[0m in \u001B[0;36meuclidean_distances\u001B[0;34m(X, Y, Y_norm_squared, squared, X_norm_squared)\u001B[0m\n\u001B[1;32m    300\u001B[0m            [1.41421356]])\n\u001B[1;32m    301\u001B[0m     \"\"\"\n\u001B[0;32m--> 302\u001B[0;31m     \u001B[0mX\u001B[0m\u001B[0;34m,\u001B[0m \u001B[0mY\u001B[0m \u001B[0;34m=\u001B[0m \u001B[0mcheck_pairwise_arrays\u001B[0m\u001B[0;34m(\u001B[0m\u001B[0mX\u001B[0m\u001B[0;34m,\u001B[0m \u001B[0mY\u001B[0m\u001B[0;34m)\u001B[0m\u001B[0;34m\u001B[0m\u001B[0;34m\u001B[0m\u001B[0m\n\u001B[0m\u001B[1;32m    303\u001B[0m \u001B[0;34m\u001B[0m\u001B[0m\n\u001B[1;32m    304\u001B[0m     \u001B[0;32mif\u001B[0m \u001B[0mX_norm_squared\u001B[0m \u001B[0;32mis\u001B[0m \u001B[0;32mnot\u001B[0m \u001B[0;32mNone\u001B[0m\u001B[0;34m:\u001B[0m\u001B[0;34m\u001B[0m\u001B[0;34m\u001B[0m\u001B[0m\n",
      "\u001B[0;32m/usr/local/lib/python3.7/dist-packages/sklearn/metrics/pairwise.py\u001B[0m in \u001B[0;36mcheck_pairwise_arrays\u001B[0;34m(X, Y, precomputed, dtype, accept_sparse, force_all_finite, copy)\u001B[0m\n\u001B[1;32m    160\u001B[0m             \u001B[0mcopy\u001B[0m\u001B[0;34m=\u001B[0m\u001B[0mcopy\u001B[0m\u001B[0;34m,\u001B[0m\u001B[0;34m\u001B[0m\u001B[0;34m\u001B[0m\u001B[0m\n\u001B[1;32m    161\u001B[0m             \u001B[0mforce_all_finite\u001B[0m\u001B[0;34m=\u001B[0m\u001B[0mforce_all_finite\u001B[0m\u001B[0;34m,\u001B[0m\u001B[0;34m\u001B[0m\u001B[0;34m\u001B[0m\u001B[0m\n\u001B[0;32m--> 162\u001B[0;31m             \u001B[0mestimator\u001B[0m\u001B[0;34m=\u001B[0m\u001B[0mestimator\u001B[0m\u001B[0;34m,\u001B[0m\u001B[0;34m\u001B[0m\u001B[0;34m\u001B[0m\u001B[0m\n\u001B[0m\u001B[1;32m    163\u001B[0m         )\n\u001B[1;32m    164\u001B[0m         Y = check_array(\n",
      "\u001B[0;32m/usr/local/lib/python3.7/dist-packages/sklearn/utils/validation.py\u001B[0m in \u001B[0;36mcheck_array\u001B[0;34m(array, accept_sparse, accept_large_sparse, dtype, order, copy, force_all_finite, ensure_2d, allow_nd, ensure_min_samples, ensure_min_features, estimator)\u001B[0m\n\u001B[1;32m    771\u001B[0m                     \u001B[0;34m\"Reshape your data either using array.reshape(-1, 1) if \"\u001B[0m\u001B[0;34m\u001B[0m\u001B[0;34m\u001B[0m\u001B[0m\n\u001B[1;32m    772\u001B[0m                     \u001B[0;34m\"your data has a single feature or array.reshape(1, -1) \"\u001B[0m\u001B[0;34m\u001B[0m\u001B[0;34m\u001B[0m\u001B[0m\n\u001B[0;32m--> 773\u001B[0;31m                     \u001B[0;34m\"if it contains a single sample.\"\u001B[0m\u001B[0;34m.\u001B[0m\u001B[0mformat\u001B[0m\u001B[0;34m(\u001B[0m\u001B[0marray\u001B[0m\u001B[0;34m)\u001B[0m\u001B[0;34m\u001B[0m\u001B[0;34m\u001B[0m\u001B[0m\n\u001B[0m\u001B[1;32m    774\u001B[0m                 )\n\u001B[1;32m    775\u001B[0m \u001B[0;34m\u001B[0m\u001B[0m\n",
      "\u001B[0;31mValueError\u001B[0m: Expected 2D array, got 1D array instead:\narray=[1. 2.].\nReshape your data either using array.reshape(-1, 1) if your data has a single feature or array.reshape(1, -1) if it contains a single sample."
     ]
    }
   ]
  },
  {
   "cell_type": "code",
   "metadata": {
    "id": "62hLdFli0TUk",
    "executionInfo": {
     "status": "ok",
     "timestamp": 1654584842273,
     "user_tz": -540,
     "elapsed": 416,
     "user": {
      "displayName": "신호중",
      "userId": "00793881806762787903"
     }
    }
   },
   "source": [
    "def _assign_labels(X, centers):\n",
    "    \"\"\" X의 각 data point를 각각의 cluster에 assign\n",
    "    각각의 cluster center와 거리를 측정하여 가까운 cluster에 assign\n",
    "    \n",
    "    Parameters\n",
    "    ----------\n",
    "    X: np.array\n",
    "        my_kmeans함수의 input data의 data값 (data.values)\n",
    "    \n",
    "    centers:\n",
    "        np.array\n",
    "        각각의 cluster center좌표롤 array로 표현\n",
    "        cluster의 개수가 k이고, 좌표를 d차원으로 표기할때\n",
    "        (k, d)의 shape을 가짐\n",
    "\n",
    "    Return\n",
    "    ----------\n",
    "    np.array\n",
    "        input X가 m개의 data point를 가질 때, \n",
    "        (m,)의 shape을 가지는 1d array\n",
    "        X의 특정 data point의 index를 d_index라 할 때, \n",
    "        return array[d_index]에는 assign된 cluster number를 저장\n",
    "        cluster number는 range(0, k, step=1)로 표현\n",
    "    \"\"\"\n",
    "    #답변 2\n",
    "    #위 distance 함수를 적절히 활용\n",
    "    #np.argmin() // 가장 작은 값의 index값을 출력\n",
    "\n",
    "    # labels = np.zeros(X.shape[0])\n",
    "\n",
    "    # for i, p in enumerate(X):\n",
    "    #   dists_from_center = distance(p, centers)\n",
    "    #   labels[i] = np.argmin(dists_from_center)\n",
    "  \n",
    "    labels = np.argmin(distance(X, centers), axis=1)\n",
    "    # 각 row는 모든 center와의 거리 배열을 가지고 있을건데, 거기서 가장 작은걸 고른다.\n",
    "    # argmin은 minimum한 값의 index\n",
    "    # min은 mimimum값 그 자체\n",
    "\n",
    "    return labels"
   ],
   "execution_count": 27,
   "outputs": []
  },
  {
   "cell_type": "markdown",
   "metadata": {
    "id": "s0q2qCxs3Zlv"
   },
   "source": [
    "#### 출력 예시\n",
    "X = np.array([[1,1], [2,3], [3,4], [4,4]])  \n",
    "centers = np.array([[2,3], [3,4]])   \n",
    "_assign_labels(X, centers)  \n",
    "\\>> array([0., 0., 1., 1.])"
   ]
  },
  {
   "cell_type": "code",
   "source": [
    "X = np.array([[1,1], [2,3], [3,4], [4,4]])\n",
    "centers = np.array([[2,3], [3,4]])\n",
    "_assign_labels(X, centers)"
   ],
   "metadata": {
    "colab": {
     "base_uri": "https://localhost:8080/"
    },
    "id": "U8h8wh185jYl",
    "executionInfo": {
     "status": "ok",
     "timestamp": 1654584844857,
     "user_tz": -540,
     "elapsed": 530,
     "user": {
      "displayName": "신호중",
      "userId": "00793881806762787903"
     }
    },
    "outputId": "420ff204-1376-4ad6-8670-f3f0ad9fdf32"
   },
   "execution_count": 28,
   "outputs": [
    {
     "output_type": "execute_result",
     "data": {
      "text/plain": [
       "array([0, 0, 1, 1])"
      ]
     },
     "metadata": {},
     "execution_count": 28
    }
   ]
  },
  {
   "cell_type": "code",
   "metadata": {
    "id": "JVTjRn5K0bOr",
    "executionInfo": {
     "status": "ok",
     "timestamp": 1654584875655,
     "user_tz": -540,
     "elapsed": 407,
     "user": {
      "displayName": "신호중",
      "userId": "00793881806762787903"
     }
    }
   },
   "source": [
    "def _update_centers(X, labels, k):\n",
    "    \"\"\" Cluster center를 update\n",
    "    K-means algorithm에 따라, 한 cluster에 assign된 data points에 대해\n",
    "    그 mean point로 center를 이동\n",
    "    \n",
    "    Parameters\n",
    "    ----------\n",
    "    X: np.array\n",
    "        my_kmeans함수의 input data의 data값 (data.values)\n",
    "        \n",
    "    labels: np.array\n",
    "        _assign_labels의 return값으로\n",
    "        X의 datapoints를 cluter에 assign한 결과 array\n",
    "        \n",
    "    k: integer\n",
    "        K means의 cluster 개수인 k값을 지정\n",
    "\n",
    "    Return\n",
    "    ----------\n",
    "    np.array\n",
    "      각 row가 새로운 center값을 가지는 (k, 2) array\n",
    "    \"\"\"\n",
    "    #답변 3\n",
    "    new_centers = np.zeros([k, 2])\n",
    "    for i in range(k):\n",
    "      mask = (labels == i)\n",
    "      new_centers[i] = np.mean(X[mask], axis = 0)\n",
    "\n",
    "    return new_centers"
   ],
   "execution_count": 29,
   "outputs": []
  },
  {
   "cell_type": "code",
   "metadata": {
    "id": "caepJjl5ls7J"
   },
   "source": [
    "def my_kmeans(data, k):\n",
    "    \"\"\" 메인 K means 알고리즘\n",
    "    data의 points중 k개의 임의의 point를 select하여 cluster center로 삼음\n",
    "    while:\n",
    "        data의 각 points에서 각각의 cluster에 대한 거리를 계산하여 가까운 cluster에 assign\n",
    "        형성된 cluster의 mean point를 계산하여 새로운 cluster center로 만듦\n",
    "        소속된 cluster가 바뀌는 data가 없으면 break\n",
    "    \n",
    "    Parameters\n",
    "    ----------\n",
    "    data: pd.DataFrame\n",
    "        row: data point\n",
    "        column: x좌표, y좌표\n",
    "        \n",
    "    k: integer\n",
    "        K means의 cluster 개수인 k값을 지정\n",
    "        \n",
    "    Return\n",
    "    ----------\n",
    "    np.array\n",
    "        1 dimension array로 각 data point가 어떤 cluster에 속하는지 표현\n",
    "        Input data의 특정 data point에 대한 index를 d_index라 할 때, \n",
    "        return_array[d_index]는 해당 data point의 cluster number를 의미\n",
    "        cluster number는 range(0, k, step=1)로 표현\n",
    "    \"\"\"\n",
    "  \n",
    "    \n",
    "    #답변 4\n",
    "    \n",
    "    # 초기화 - np.random.choice를 활용한 center 초기화\n",
    "\n",
    "    X = data.values # pandas에서 data를 numpy array로 가져와\n",
    "    # Random으로 선택한 data points\n",
    "    # X.shape[0] row의 개수, 전체 데이터의 개수\n",
    "    arr_idx = np.arange(X.shape[0])\n",
    "    # replace = False 비복원 추출하겠다\n",
    "    init_center_idx = np.random.choice(arr_idx, k, replace=False)\n",
    "    centers = X[init_center_idx]\n",
    "\n",
    "    # 각 cluster에 data points assign\n",
    "    # 가장 가까운 center에 각 data point를 할당\n",
    "    # 각 center에 data points assign하여 cluster 형성\n",
    "    # 그냥 for문돌아서 다 할수도 있는데\n",
    "    # all pair wise distance를 구할건데, 우리가 pair wise distance를 쉽게 구하는 방법이 있어\n",
    "    # 선형대수? root(XdotX - 2 XY + YdotY)\n",
    "    # scikit learn에서 그걸 구현해뒀어\n",
    "    labels = _assign_labels(X, centers)\n",
    "\n",
    "    old_labels = None\n",
    "    # K-means algorithm - center update, data assign 반복\n",
    "    while np.any(old_labels != labels):\n",
    "      old_labels = labels\n",
    "      new_centers = _update_centers(X, labels, k)\n",
    "      labels = _assign_labels(X, new_centers)\n",
    "        \n",
    "    return labels"
   ],
   "execution_count": null,
   "outputs": []
  },
  {
   "cell_type": "code",
   "metadata": {
    "id": "cJQjls1mls7K"
   },
   "source": [
    "labels = my_kmeans(data, 4)\n",
    "labels"
   ],
   "execution_count": null,
   "outputs": []
  },
  {
   "cell_type": "markdown",
   "metadata": {
    "id": "WSxfg0-Cls7K"
   },
   "source": [
    "## Clustering 결과 확인"
   ]
  },
  {
   "cell_type": "code",
   "metadata": {
    "id": "blhH9Q9xls7K"
   },
   "source": [
    "unique_labels = set(labels)\n",
    "colors = [plt.cm.gist_rainbow(each) \n",
    "        for each in np.linspace(0, 1, len(unique_labels))]"
   ],
   "execution_count": null,
   "outputs": []
  },
  {
   "cell_type": "code",
   "metadata": {
    "id": "v_jeW3CEls7K"
   },
   "source": [
    "plt.figure(figsize=[8, 8])\n",
    "for cluster_index, col in zip(unique_labels, colors):\n",
    "    if cluster_index == -1:\n",
    "        col = [0, 0, 0, 1]\n",
    "    class_mask = (labels == cluster_index)\n",
    "    plt.plot(data.values[class_mask][:, 0], \n",
    "             data.values[class_mask][:, 1], \n",
    "            'o', markerfacecolor=tuple(col), markeredgecolor=tuple(col), \n",
    "            markersize=1)\n",
    "        "
   ],
   "execution_count": null,
   "outputs": []
  },
  {
   "cell_type": "code",
   "metadata": {
    "id": "6XeOopvIls7L"
   },
   "source": [
    ""
   ],
   "execution_count": null,
   "outputs": []
  }
 ]
}