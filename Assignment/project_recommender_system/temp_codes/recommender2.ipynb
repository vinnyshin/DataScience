{
 "cells": [
  {
   "cell_type": "code",
   "execution_count": 1,
   "metadata": {
    "collapsed": true,
    "pycharm": {
     "name": "#%%\n"
    }
   },
   "outputs": [],
   "source": [
    "import time\n",
    "start = time.time()\n",
    "\n",
    "import sys\n",
    "import pandas as pd\n",
    "import numpy as np\n",
    "from sklearn.metrics import mean_squared_error\n",
    "from math import sqrt"
   ]
  },
  {
   "cell_type": "code",
   "execution_count": 2,
   "outputs": [],
   "source": [
    "train_file_path = './test/u3.base'\n",
    "test_file_path = './test/u3.test'\n",
    "result_file_path = train_file_path + \"_prediction.txt\"\n",
    "columns = [\"user_id\", \"item_id\", \"rating\", \"time_stamp\"]\n",
    "\n",
    "train_df = pd.read_csv(train_file_path, names=columns, delimiter='\\t')\n",
    "test_df = pd.read_csv(test_file_path, names=columns, delimiter='\\t')\n",
    "\n",
    "# We are not going to use the last column \"time_stamp\".\n",
    "train_df.drop(columns=train_df.columns[-1], inplace=True)\n",
    "test_df.drop(columns=test_df.columns[-1], inplace=True)\n",
    "\n",
    "train_user_item_matrix = train_df.pivot(index='user_id', columns='item_id', values='rating')\n",
    "test_user_item_matrix = test_df.pivot(index='user_id', columns='item_id', values='rating')"
   ],
   "metadata": {
    "collapsed": false,
    "pycharm": {
     "name": "#%%\n"
    }
   }
  },
  {
   "cell_type": "code",
   "execution_count": 3,
   "outputs": [],
   "source": [
    "# test 빼기\n",
    "def matrix_factorization(train_matrix, test_matrix, lmbd=0.02, k=1, std_dev=0.5, epochs=100, learning_rate=0.01):\n",
    "    num_of_user = len(train_matrix.index)\n",
    "    num_of_item = len(train_matrix.columns)\n",
    "\n",
    "    u = std_dev * np.random.randn(num_of_user, k) # user embedding\n",
    "    v = std_dev * np.random.randn(num_of_item, k) # item embedding\n",
    "\n",
    "    bias_user = np.zeros((num_of_user, 1))\n",
    "    bias_item = np.zeros((num_of_item, 1))\n",
    "\n",
    "    matrix_mean = np.mean(train_matrix.values[~np.isnan(train_matrix.values)])\n",
    "\n",
    "    train_not_nan_indices = train_matrix.stack(dropna=True).index.tolist()\n",
    "    test_not_nan_indices = test_matrix.stack(dropna=True).index.tolist()\n",
    "\n",
    "    train_set = [(i, j, train_matrix.loc[i, j]) for i, j in train_not_nan_indices]\n",
    "    test_set = [(i, j, test_matrix.loc[i, j]) for i, j in test_not_nan_indices]\n",
    "\n",
    "    train_user_item_matrix_index = train_user_item_matrix.index.tolist()\n",
    "    train_user_item_matrix_columns = train_user_item_matrix.columns.tolist()\n",
    "\n",
    "    train_avg_costs = []\n",
    "    test_avg_costs = []\n",
    "\n",
    "    for epoch in range(epochs):\n",
    "        np.random.shuffle(train_set)\n",
    "\n",
    "        train_avg_cost = 0\n",
    "        test_avg_cost = 0\n",
    "\n",
    "        for i, j, ground_truth in train_set:\n",
    "            absolute_i = train_user_item_matrix_index.index(i)\n",
    "            absolute_j = train_user_item_matrix_columns.index(j)\n",
    "\n",
    "            logit = matrix_mean + bias_user[absolute_i] + bias_item[absolute_j] + u[absolute_i, :].dot(v[absolute_j, :].T)\n",
    "            e = ground_truth - logit\n",
    "\n",
    "            u[absolute_i, :] += learning_rate * (e * v[absolute_j, :] - lmbd * u[absolute_i, :])\n",
    "            v[absolute_j, :] += learning_rate * (e * u[absolute_i, :] - lmbd * v[absolute_j, :])\n",
    "\n",
    "            bias_user[absolute_i] += learning_rate * (e - lmbd * bias_user[absolute_i])\n",
    "            bias_item[absolute_j] += learning_rate * (e - lmbd * bias_item[absolute_j])\n",
    "\n",
    "            rms =  sqrt(mean_squared_error([ground_truth], logit))\n",
    "            train_avg_cost += rms / len(train_set)\n",
    "\n",
    "        for i, j, ground_truth in test_set:\n",
    "            if i not in train_user_item_matrix_index or j not in train_user_item_matrix_columns:\n",
    "                continue\n",
    "\n",
    "            absolute_i = train_user_item_matrix_index.index(i)\n",
    "            absolute_j = train_user_item_matrix_columns.index(j)\n",
    "\n",
    "            logit = matrix_mean + bias_user[absolute_i] + bias_item[absolute_j] + u[absolute_i, :].dot(v[absolute_j, :].T)\n",
    "\n",
    "            test_rms = sqrt(mean_squared_error([ground_truth], logit))\n",
    "            test_avg_cost += test_rms / len(test_set)\n",
    "\n",
    "        train_avg_costs.append(train_avg_cost)\n",
    "        test_avg_costs.append(test_avg_cost)\n",
    "\n",
    "        print('Epoch: {} / {}\\ntrain cost: {}\\ntest cost: {}'.format(epoch + 1, epochs, train_avg_cost, test_avg_cost))\n",
    "\n",
    "        if epoch > 0:\n",
    "            if test_avg_costs[-2] < test_avg_cost:\n",
    "                return matrix_mean, u, v, bias_user, bias_item\n",
    "\n",
    "    return matrix_mean, u, v, bias_user, bias_item"
   ],
   "metadata": {
    "collapsed": false,
    "pycharm": {
     "name": "#%%\n"
    }
   }
  },
  {
   "cell_type": "code",
   "execution_count": 4,
   "outputs": [
    {
     "name": "stdout",
     "output_type": "stream",
     "text": [
      "Epoch: 1 / 100\n",
      "train cost: 0.8402129925859583\n",
      "test cost: 0.7820128186457829\n",
      "Epoch: 2 / 100\n",
      "train cost: 0.7697538677490802\n",
      "test cost: 0.7602714176059256\n",
      "Epoch: 3 / 100\n",
      "train cost: 0.7510695148703496\n",
      "test cost: 0.7517144592014056\n",
      "Epoch: 4 / 100\n",
      "train cost: 0.7426469900902949\n",
      "test cost: 0.7476961270486939\n",
      "Epoch: 5 / 100\n",
      "train cost: 0.7369532011532859\n",
      "test cost: 0.7463670793568119\n",
      "Epoch: 6 / 100\n",
      "train cost: 0.7337336310423787\n",
      "test cost: 0.7448079136683505\n",
      "Epoch: 7 / 100\n",
      "train cost: 0.7308610750309621\n",
      "test cost: 0.744021234429326\n",
      "Epoch: 8 / 100\n",
      "train cost: 0.7294235002994306\n",
      "test cost: 0.7430494388294997\n",
      "Epoch: 9 / 100\n",
      "train cost: 0.7275363285646748\n",
      "test cost: 0.742409925266472\n",
      "Epoch: 10 / 100\n",
      "train cost: 0.7262775498913565\n",
      "test cost: 0.7429225909159588\n"
     ]
    }
   ],
   "source": [
    "mean, u, v, bias_user, bias_item = matrix_factorization(train_user_item_matrix, test_user_item_matrix, k=1, learning_rate=0.01, std_dev=0.5)"
   ],
   "metadata": {
    "collapsed": false,
    "pycharm": {
     "name": "#%%\n"
    }
   }
  },
  {
   "cell_type": "code",
   "execution_count": 5,
   "outputs": [],
   "source": [
    "predicted_user_item_matrix = u.dot(v.T) + mean + bias_user + bias_item.T\n",
    "predicted_user_item_matrix[predicted_user_item_matrix < 0] = 0\n",
    "predicted_user_item_matrix[predicted_user_item_matrix > 5] = 5\n",
    "\n",
    "result_df = pd.DataFrame(predicted_user_item_matrix).apply(lambda x: np.round(x, 0))\n",
    "\n",
    "result_df = result_df.set_index(train_user_item_matrix.index)\n",
    "result_df.columns = train_user_item_matrix.columns"
   ],
   "metadata": {
    "collapsed": false,
    "pycharm": {
     "name": "#%%\n"
    }
   }
  },
  {
   "cell_type": "code",
   "execution_count": 6,
   "outputs": [],
   "source": [
    "for i in range(test_df.shape[0]):\n",
    "    user_id, item_id = test_df.values[i][0], test_df.values[i][1]\n",
    "    if user_id not in result_df.index:\n",
    "        result_df.loc[user_id] = round(mean)\n",
    "    if item_id not in result_df.columns:\n",
    "        result_df[item_id] = round(mean)"
   ],
   "metadata": {
    "collapsed": false,
    "pycharm": {
     "name": "#%%\n"
    }
   }
  },
  {
   "cell_type": "code",
   "execution_count": 7,
   "outputs": [
    {
     "name": "stdout",
     "output_type": "stream",
     "text": [
      "time : 132.25130200386047\n"
     ]
    }
   ],
   "source": [
    "with open(result_file_path, 'w') as file:\n",
    "    for a, b in result_df.stack().items():\n",
    "        user = a[0]\n",
    "        item = a[1]\n",
    "        rating = b\n",
    "        file.write(f\"{user}\\t{item}\\t{rating}\\n\")\n",
    "\n",
    "print(\"time :\", time.time() - start)  # 현재시각 - 시작시간 = 실행 시간"
   ],
   "metadata": {
    "collapsed": false,
    "pycharm": {
     "name": "#%%\n"
    }
   }
  },
  {
   "cell_type": "code",
   "execution_count": 8,
   "outputs": [
    {
     "name": "stdout",
     "output_type": "stream",
     "text": [
      "the number of ratings that didn't be predicted: 0\r\n",
      "the number of ratings that were unproperly predicted [ex. >=10, <0, NaN, or format errors]: 0\r\n",
      "If the counted number is large, please check your codes again.\r\n",
      "\r\n",
      "The bigger value means that the ratings are predicted more incorrectly\r\n",
      "RMSE: 0.9889894\r\n"
     ]
    }
   ],
   "source": [
    "!mono ./test/PA4.exe ./test/u3"
   ],
   "metadata": {
    "collapsed": false,
    "pycharm": {
     "name": "#%%\n"
    }
   }
  }
 ],
 "metadata": {
  "kernelspec": {
   "display_name": "Python 3",
   "language": "python",
   "name": "python3"
  },
  "language_info": {
   "codemirror_mode": {
    "name": "ipython",
    "version": 2
   },
   "file_extension": ".py",
   "mimetype": "text/x-python",
   "name": "python",
   "nbconvert_exporter": "python",
   "pygments_lexer": "ipython2",
   "version": "2.7.6"
  }
 },
 "nbformat": 4,
 "nbformat_minor": 0
}