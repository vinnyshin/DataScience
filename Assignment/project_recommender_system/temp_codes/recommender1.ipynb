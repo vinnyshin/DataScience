{
 "cells": [
  {
   "cell_type": "code",
   "execution_count": 1,
   "metadata": {
    "collapsed": true,
    "pycharm": {
     "name": "#%%\n"
    }
   },
   "outputs": [],
   "source": [
    "import time\n",
    "start = time.time()\n",
    "\n",
    "import sys\n",
    "import pandas as pd\n",
    "import numpy as np\n",
    "from sklearn.metrics import mean_squared_error\n",
    "from math import sqrt"
   ]
  },
  {
   "cell_type": "code",
   "execution_count": 2,
   "outputs": [],
   "source": [
    "train_file_path = './test/u1.base'\n",
    "test_file_path = './test/u1.test'\n",
    "result_file_path = train_file_path + \"_prediction.txt\"\n",
    "columns = [\"user_id\", \"item_id\", \"rating\", \"time_stamp\"]\n",
    "\n",
    "train_df = pd.read_csv(train_file_path, names=columns, delimiter='\\t')\n",
    "test_df = pd.read_csv(test_file_path, names=columns, delimiter='\\t')\n",
    "\n",
    "# We are not going to use the last column \"time_stamp\".\n",
    "train_df.drop(columns=train_df.columns[-1], inplace=True)\n",
    "test_df.drop(columns=test_df.columns[-1], inplace=True)\n",
    "\n",
    "train_user_item_matrix = train_df.pivot(index='user_id', columns='item_id', values='rating')\n",
    "test_user_item_matrix = test_df.pivot(index='user_id', columns='item_id', values='rating')"
   ],
   "metadata": {
    "collapsed": false,
    "pycharm": {
     "name": "#%%\n"
    }
   }
  },
  {
   "cell_type": "code",
   "execution_count": 40,
   "outputs": [
    {
     "name": "stdout",
     "output_type": "stream",
     "text": [
      "nan\n"
     ]
    }
   ],
   "source": [
    "for i, j in test_user_item_matrix.stack().index.tolist():\n",
    "    if i in train_user_item_matrix.index and j in train_user_item_matrix.columns:\n"
   ],
   "metadata": {
    "collapsed": false,
    "pycharm": {
     "name": "#%%\n"
    }
   }
  },
  {
   "cell_type": "code",
   "execution_count": 41,
   "outputs": [],
   "source": [
    "train_not_nan = train_user_item_matrix.notnull()"
   ],
   "metadata": {
    "collapsed": false,
    "pycharm": {
     "name": "#%%\n"
    }
   }
  },
  {
   "cell_type": "code",
   "execution_count": 45,
   "outputs": [
    {
     "data": {
      "text/plain": "MultiIndex([(  1,    1),\n            (  1,    2),\n            (  1,    3),\n            (  1,    4),\n            (  1,    5),\n            (  1,    7),\n            (  1,    8),\n            (  1,    9),\n            (  1,   11),\n            (  1,   13),\n            ...\n            (943,  943),\n            (943, 1011),\n            (943, 1028),\n            (943, 1044),\n            (943, 1047),\n            (943, 1067),\n            (943, 1074),\n            (943, 1188),\n            (943, 1228),\n            (943, 1330)],\n           names=['user_id', 'item_id'], length=80000)"
     },
     "execution_count": 45,
     "metadata": {},
     "output_type": "execute_result"
    }
   ],
   "source": [
    "train_not_nan.where(train_not_nan > 0).stack().index"
   ],
   "metadata": {
    "collapsed": false,
    "pycharm": {
     "name": "#%%\n"
    }
   }
  },
  {
   "cell_type": "code",
   "execution_count": 3,
   "outputs": [],
   "source": [
    "# test 빼기\n",
    "def matrix_factorization(train_matrix, test_matrix, lmbd=0.02, k=1, std_dev=0.5, epochs=100, learning_rate=0.01):\n",
    "    num_of_user = len(train_matrix.index)\n",
    "    num_of_item = len(train_matrix.columns)\n",
    "\n",
    "    train_matrix_np = train_matrix.values\n",
    "    test_matrix_np = test_matrix.values\n",
    "\n",
    "    u = std_dev * np.random.randn(num_of_user, k) # user embedding\n",
    "    v = std_dev * np.random.randn(num_of_item, k) # item embedding\n",
    "\n",
    "    bias_user = np.zeros((num_of_user, 1))\n",
    "    bias_item = np.zeros((num_of_item, 1))\n",
    "\n",
    "    train_not_nan = ~np.isnan(train_matrix_np)\n",
    "    test_not_nan = ~np.isnan(test_matrix_np)\n",
    "\n",
    "    matrix_mean = np.mean(train_matrix.values[train_not_nan])\n",
    "\n",
    "    train_i_list, train_j_list = np.where(train_not_nan > 0)\n",
    "    test_i_list, test_j_list = np.where(test_not_nan > 0)\n",
    "\n",
    "    train_set = [(i, j, train_matrix.iloc[i, j]) for i, j in zip(train_i_list, train_j_list)]\n",
    "    test_set = [(i, j, test_matrix.iloc[i, j]) for i, j in zip(test_i_list, test_j_list)]\n",
    "\n",
    "    train_avg_costs = []\n",
    "    test_avg_costs = []\n",
    "\n",
    "    for epoch in range(epochs):\n",
    "        np.random.shuffle(train_set)\n",
    "\n",
    "        train_avg_cost = 0\n",
    "        test_avg_cost = 0\n",
    "\n",
    "        for i, j, ground_truth in train_set:\n",
    "            logit = matrix_mean + bias_user[i] + bias_item[j] + u[i, :].dot(v[j, :].T)\n",
    "            e = ground_truth - logit\n",
    "\n",
    "            u[i, :] += learning_rate * (e * v[j, :] - lmbd * u[i, :])\n",
    "            v[j, :] += learning_rate * (e * u[i, :] - lmbd * v[j, :])\n",
    "\n",
    "            bias_user[i] += learning_rate * (e - lmbd * bias_user[i])\n",
    "            bias_item[j] += learning_rate * (e - lmbd * bias_item[j])\n",
    "\n",
    "            rms =  sqrt(mean_squared_error([ground_truth], logit))\n",
    "            train_avg_cost += rms / len(train_set)\n",
    "\n",
    "        for i, j, ground_truth in test_set:\n",
    "            logit = matrix_mean + bias_user[i] + bias_item[j] + u[i, :].dot(v[j, :].T)\n",
    "            test_rms = sqrt(mean_squared_error([ground_truth], logit))\n",
    "            test_avg_cost += test_rms / len(test_set)\n",
    "\n",
    "        train_avg_costs.append(train_avg_cost)\n",
    "        test_avg_costs.append(test_avg_cost)\n",
    "\n",
    "        print('Epoch: {} / {}\\ntrain cost: {}\\ntest cost: {}'.format(epoch + 1, epochs, train_avg_cost, test_avg_cost))\n",
    "\n",
    "        if epoch > 0:\n",
    "            if test_avg_costs[-2] < test_avg_cost:\n",
    "                return matrix_mean, u, v, bias_user, bias_item\n",
    "\n",
    "    return matrix_mean, u, v, bias_user, bias_item"
   ],
   "metadata": {
    "collapsed": false,
    "pycharm": {
     "name": "#%%\n"
    }
   }
  },
  {
   "cell_type": "code",
   "execution_count": 4,
   "outputs": [],
   "source": [
    "# def make_pre_use_preference_matrix(user_item_matrix):\n",
    "#     condition = pd.notnull(user_item_matrix)\n",
    "#     temp = user_item_matrix.copy()\n",
    "#     temp[condition] = 1.0\n",
    "#     return temp"
   ],
   "metadata": {
    "collapsed": false,
    "pycharm": {
     "name": "#%%\n"
    }
   }
  },
  {
   "cell_type": "code",
   "execution_count": 5,
   "outputs": [],
   "source": [
    "# train_pre_use = make_pre_use_preference_matrix(train_user_item_matrix)\n",
    "# test_pre_use = make_pre_use_preference_matrix(test_user_item_matrix)"
   ],
   "metadata": {
    "collapsed": false,
    "pycharm": {
     "name": "#%%\n"
    }
   }
  },
  {
   "cell_type": "code",
   "execution_count": 6,
   "outputs": [],
   "source": [
    "# from matrix_factorization import BaselineModel, KernelMF, train_update_test_split\n",
    "#\n",
    "# matrix_fact = KernelMF(n_epochs=20, n_factors=100, verbose=1, lr=0.001, reg=0.005)\n",
    "# matrix_fact.fit(train_df[['user_id', 'item_id']], np.full(train_df.shape[0], 1.0))"
   ],
   "metadata": {
    "collapsed": false,
    "pycharm": {
     "name": "#%%\n"
    }
   }
  },
  {
   "cell_type": "code",
   "execution_count": 7,
   "outputs": [],
   "source": [
    "# bias_user = matrix_fact.user_biases\n",
    "# bias_item = matrix_fact.item_biases\n",
    "# mean = matrix_fact.global_mean\n",
    "# u = matrix_fact.user_features\n",
    "# v = matrix_fact.item_features"
   ],
   "metadata": {
    "collapsed": false,
    "pycharm": {
     "name": "#%%\n"
    }
   }
  },
  {
   "cell_type": "code",
   "execution_count": 8,
   "outputs": [],
   "source": [
    "# matrix_fact = KernelMF(n_epochs=130, n_factors=60, verbose=0, lr=0.001, reg=0.005)\n",
    "# matrix_fact.fit(train_df[['user_id', 'item_id']], train_df['rating'])\n",
    "#\n",
    "# pred = matrix_fact.predict(test_df[['user_id', 'item_id']])\n",
    "# rmse = mean_squared_error(test_df['rating'], pred, squared=False)\n",
    "# print(f\"\\nTest RMSE: {rmse:.4f}\")"
   ],
   "metadata": {
    "collapsed": false,
    "pycharm": {
     "name": "#%%\n"
    }
   }
  },
  {
   "cell_type": "code",
   "execution_count": 9,
   "outputs": [],
   "source": [
    "# mean, u, v, bias_user, bias_item = matrix_factorization(train_pre_use, test_pre_use, learning_rate=0.01, std_dev=0.5, epochs=10, k = 1)\n",
    "# predicted_pre_use_matrix = u.dot(v.T) + mean + bias_user + bias_item.T"
   ],
   "metadata": {
    "collapsed": false,
    "pycharm": {
     "name": "#%%\n"
    }
   }
  },
  {
   "cell_type": "code",
   "execution_count": 10,
   "outputs": [],
   "source": [
    "# threshold = 0.5\n",
    "# train_user_item_matrix[predicted_pre_use_matrix < threshold] = 0"
   ],
   "metadata": {
    "collapsed": false,
    "pycharm": {
     "name": "#%%\n"
    }
   }
  },
  {
   "cell_type": "code",
   "execution_count": 21,
   "outputs": [
    {
     "name": "stdout",
     "output_type": "stream",
     "text": [
      "Epoch: 1 / 100\n",
      "train cost: 1.0520693546806856\n",
      "test cost: 1.0058305673040673\n",
      "Epoch: 2 / 100\n",
      "train cost: 0.8327288061424265\n",
      "test cost: 0.9420007073414711\n",
      "Epoch: 3 / 100\n",
      "train cost: 0.762476925788685\n",
      "test cost: 0.9178810742786467\n",
      "Epoch: 4 / 100\n",
      "train cost: 0.7264792444785568\n",
      "test cost: 0.9061756487681195\n",
      "Epoch: 5 / 100\n",
      "train cost: 0.703582343531787\n",
      "test cost: 0.9013349226175591\n",
      "Epoch: 6 / 100\n",
      "train cost: 0.6868793414654897\n",
      "test cost: 0.8996113696474577\n",
      "Epoch: 7 / 100\n",
      "train cost: 0.6732226511233174\n",
      "test cost: 0.8985998627184406\n",
      "Epoch: 8 / 100\n",
      "train cost: 0.6618807413225942\n",
      "test cost: 0.8979259299779525\n",
      "Epoch: 9 / 100\n",
      "train cost: 0.651458721093697\n",
      "test cost: 0.8985188520563034\n"
     ]
    }
   ],
   "source": [
    "mean, u, v, bias_user, bias_item = matrix_factorization(train_user_item_matrix, test_user_item_matrix, k=20, learning_rate=0.01, std_dev=0.5)"
   ],
   "metadata": {
    "collapsed": false,
    "pycharm": {
     "name": "#%%\n"
    }
   }
  },
  {
   "cell_type": "code",
   "execution_count": 22,
   "outputs": [],
   "source": [
    "predicted_user_item_matrix = u.dot(v.T) + mean + bias_user + bias_item.T\n",
    "predicted_user_item_matrix[predicted_user_item_matrix < 0] = 0\n",
    "predicted_user_item_matrix[predicted_user_item_matrix > 5] = 5\n",
    "\n",
    "result_df = pd.DataFrame(predicted_user_item_matrix).apply(lambda x: np.round(x, 0))\n",
    "\n",
    "result_df = result_df.set_index(train_user_item_matrix.index)\n",
    "result_df.columns = train_user_item_matrix.columns"
   ],
   "metadata": {
    "collapsed": false,
    "pycharm": {
     "name": "#%%\n"
    }
   }
  },
  {
   "cell_type": "code",
   "execution_count": 23,
   "outputs": [
    {
     "data": {
      "text/plain": "Int64Index([  1,   2,   3,   4,   5,   6,   7,   8,   9,  10,\n            ...\n            934, 935, 936, 937, 938, 939, 940, 941, 942, 943],\n           dtype='int64', name='user_id', length=943)"
     },
     "execution_count": 23,
     "metadata": {},
     "output_type": "execute_result"
    }
   ],
   "source": [
    "result_df.index"
   ],
   "metadata": {
    "collapsed": false,
    "pycharm": {
     "name": "#%%\n"
    }
   }
  },
  {
   "cell_type": "code",
   "execution_count": 24,
   "outputs": [
    {
     "name": "stdout",
     "output_type": "stream",
     "text": [
      "itemid 599\n",
      "itemid 711\n",
      "itemid 814\n",
      "itemid 830\n",
      "itemid 852\n",
      "itemid 857\n",
      "itemid 1156\n",
      "itemid 1236\n",
      "itemid 1309\n",
      "itemid 1310\n",
      "itemid 1320\n",
      "itemid 1343\n",
      "itemid 1348\n",
      "itemid 1364\n",
      "itemid 1373\n",
      "itemid 1457\n",
      "itemid 1458\n",
      "itemid 1492\n",
      "itemid 1493\n",
      "itemid 1498\n",
      "itemid 1505\n",
      "itemid 1520\n",
      "itemid 1533\n",
      "itemid 1536\n",
      "itemid 1543\n",
      "itemid 1557\n",
      "itemid 1561\n",
      "itemid 1562\n",
      "itemid 1563\n",
      "itemid 1565\n",
      "itemid 1582\n",
      "itemid 1586\n"
     ]
    }
   ],
   "source": [
    "for i in range(test_df.shape[0]):\n",
    "    user_id, item_id = test_df.values[i][0], test_df.values[i][1]\n",
    "    if user_id not in result_df.index:\n",
    "        print('Userid' , user_id)\n",
    "        result_df.loc[user_id] = round(mean)\n",
    "    if item_id not in result_df.columns:\n",
    "        print('itemid', item_id)\n",
    "        result_df[item_id] = round(mean)"
   ],
   "metadata": {
    "collapsed": false,
    "pycharm": {
     "name": "#%%\n"
    }
   }
  },
  {
   "cell_type": "code",
   "execution_count": 16,
   "outputs": [
    {
     "data": {
      "text/plain": "item_id  1     2     3     4     5     6     7     8     9     10    ...  \\\nuser_id                                                              ...   \n1         4.0   3.0   4.0   4.0   3.0   3.0   4.0   4.0   4.0   5.0  ...   \n2         4.0   4.0   3.0   3.0   4.0   5.0   4.0   5.0   4.0   3.0  ...   \n3         4.0   3.0   3.0   3.0   4.0   4.0   3.0   4.0   4.0   3.0  ...   \n4         5.0   2.0   4.0   5.0   3.0   4.0   5.0   5.0   4.0   3.0  ...   \n5         3.0   3.0   3.0   3.0   2.0   4.0   3.0   3.0   3.0   3.0  ...   \n...       ...   ...   ...   ...   ...   ...   ...   ...   ...   ...  ...   \n939       5.0   4.0   3.0   4.0   5.0   5.0   4.0   5.0   5.0   5.0  ...   \n940       4.0   3.0   3.0   2.0   4.0   5.0   3.0   4.0   4.0   3.0  ...   \n941       4.0   3.0   3.0   3.0   4.0   5.0   4.0   5.0   5.0   4.0  ...   \n942       4.0   4.0   3.0   4.0   4.0   5.0   4.0   4.0   4.0   4.0  ...   \n943       3.0   3.0   3.0   3.0   4.0   4.0   4.0   4.0   4.0   3.0  ...   \n\nitem_id  1533  1536  1543  1557  1561  1562  1563  1565  1582  1586  \nuser_id                                                              \n1           4     4     4     4     4     4     4     4     4     4  \n2           4     4     4     4     4     4     4     4     4     4  \n3           4     4     4     4     4     4     4     4     4     4  \n4           4     4     4     4     4     4     4     4     4     4  \n5           4     4     4     4     4     4     4     4     4     4  \n...       ...   ...   ...   ...   ...   ...   ...   ...   ...   ...  \n939         4     4     4     4     4     4     4     4     4     4  \n940         4     4     4     4     4     4     4     4     4     4  \n941         4     4     4     4     4     4     4     4     4     4  \n942         4     4     4     4     4     4     4     4     4     4  \n943         4     4     4     4     4     4     4     4     4     4  \n\n[943 rows x 1682 columns]",
      "text/html": "<div>\n<style scoped>\n    .dataframe tbody tr th:only-of-type {\n        vertical-align: middle;\n    }\n\n    .dataframe tbody tr th {\n        vertical-align: top;\n    }\n\n    .dataframe thead th {\n        text-align: right;\n    }\n</style>\n<table border=\"1\" class=\"dataframe\">\n  <thead>\n    <tr style=\"text-align: right;\">\n      <th>item_id</th>\n      <th>1</th>\n      <th>2</th>\n      <th>3</th>\n      <th>4</th>\n      <th>5</th>\n      <th>6</th>\n      <th>7</th>\n      <th>8</th>\n      <th>9</th>\n      <th>10</th>\n      <th>...</th>\n      <th>1533</th>\n      <th>1536</th>\n      <th>1543</th>\n      <th>1557</th>\n      <th>1561</th>\n      <th>1562</th>\n      <th>1563</th>\n      <th>1565</th>\n      <th>1582</th>\n      <th>1586</th>\n    </tr>\n    <tr>\n      <th>user_id</th>\n      <th></th>\n      <th></th>\n      <th></th>\n      <th></th>\n      <th></th>\n      <th></th>\n      <th></th>\n      <th></th>\n      <th></th>\n      <th></th>\n      <th></th>\n      <th></th>\n      <th></th>\n      <th></th>\n      <th></th>\n      <th></th>\n      <th></th>\n      <th></th>\n      <th></th>\n      <th></th>\n      <th></th>\n    </tr>\n  </thead>\n  <tbody>\n    <tr>\n      <th>1</th>\n      <td>4.0</td>\n      <td>3.0</td>\n      <td>4.0</td>\n      <td>4.0</td>\n      <td>3.0</td>\n      <td>3.0</td>\n      <td>4.0</td>\n      <td>4.0</td>\n      <td>4.0</td>\n      <td>5.0</td>\n      <td>...</td>\n      <td>4</td>\n      <td>4</td>\n      <td>4</td>\n      <td>4</td>\n      <td>4</td>\n      <td>4</td>\n      <td>4</td>\n      <td>4</td>\n      <td>4</td>\n      <td>4</td>\n    </tr>\n    <tr>\n      <th>2</th>\n      <td>4.0</td>\n      <td>4.0</td>\n      <td>3.0</td>\n      <td>3.0</td>\n      <td>4.0</td>\n      <td>5.0</td>\n      <td>4.0</td>\n      <td>5.0</td>\n      <td>4.0</td>\n      <td>3.0</td>\n      <td>...</td>\n      <td>4</td>\n      <td>4</td>\n      <td>4</td>\n      <td>4</td>\n      <td>4</td>\n      <td>4</td>\n      <td>4</td>\n      <td>4</td>\n      <td>4</td>\n      <td>4</td>\n    </tr>\n    <tr>\n      <th>3</th>\n      <td>4.0</td>\n      <td>3.0</td>\n      <td>3.0</td>\n      <td>3.0</td>\n      <td>4.0</td>\n      <td>4.0</td>\n      <td>3.0</td>\n      <td>4.0</td>\n      <td>4.0</td>\n      <td>3.0</td>\n      <td>...</td>\n      <td>4</td>\n      <td>4</td>\n      <td>4</td>\n      <td>4</td>\n      <td>4</td>\n      <td>4</td>\n      <td>4</td>\n      <td>4</td>\n      <td>4</td>\n      <td>4</td>\n    </tr>\n    <tr>\n      <th>4</th>\n      <td>5.0</td>\n      <td>2.0</td>\n      <td>4.0</td>\n      <td>5.0</td>\n      <td>3.0</td>\n      <td>4.0</td>\n      <td>5.0</td>\n      <td>5.0</td>\n      <td>4.0</td>\n      <td>3.0</td>\n      <td>...</td>\n      <td>4</td>\n      <td>4</td>\n      <td>4</td>\n      <td>4</td>\n      <td>4</td>\n      <td>4</td>\n      <td>4</td>\n      <td>4</td>\n      <td>4</td>\n      <td>4</td>\n    </tr>\n    <tr>\n      <th>5</th>\n      <td>3.0</td>\n      <td>3.0</td>\n      <td>3.0</td>\n      <td>3.0</td>\n      <td>2.0</td>\n      <td>4.0</td>\n      <td>3.0</td>\n      <td>3.0</td>\n      <td>3.0</td>\n      <td>3.0</td>\n      <td>...</td>\n      <td>4</td>\n      <td>4</td>\n      <td>4</td>\n      <td>4</td>\n      <td>4</td>\n      <td>4</td>\n      <td>4</td>\n      <td>4</td>\n      <td>4</td>\n      <td>4</td>\n    </tr>\n    <tr>\n      <th>...</th>\n      <td>...</td>\n      <td>...</td>\n      <td>...</td>\n      <td>...</td>\n      <td>...</td>\n      <td>...</td>\n      <td>...</td>\n      <td>...</td>\n      <td>...</td>\n      <td>...</td>\n      <td>...</td>\n      <td>...</td>\n      <td>...</td>\n      <td>...</td>\n      <td>...</td>\n      <td>...</td>\n      <td>...</td>\n      <td>...</td>\n      <td>...</td>\n      <td>...</td>\n      <td>...</td>\n    </tr>\n    <tr>\n      <th>939</th>\n      <td>5.0</td>\n      <td>4.0</td>\n      <td>3.0</td>\n      <td>4.0</td>\n      <td>5.0</td>\n      <td>5.0</td>\n      <td>4.0</td>\n      <td>5.0</td>\n      <td>5.0</td>\n      <td>5.0</td>\n      <td>...</td>\n      <td>4</td>\n      <td>4</td>\n      <td>4</td>\n      <td>4</td>\n      <td>4</td>\n      <td>4</td>\n      <td>4</td>\n      <td>4</td>\n      <td>4</td>\n      <td>4</td>\n    </tr>\n    <tr>\n      <th>940</th>\n      <td>4.0</td>\n      <td>3.0</td>\n      <td>3.0</td>\n      <td>2.0</td>\n      <td>4.0</td>\n      <td>5.0</td>\n      <td>3.0</td>\n      <td>4.0</td>\n      <td>4.0</td>\n      <td>3.0</td>\n      <td>...</td>\n      <td>4</td>\n      <td>4</td>\n      <td>4</td>\n      <td>4</td>\n      <td>4</td>\n      <td>4</td>\n      <td>4</td>\n      <td>4</td>\n      <td>4</td>\n      <td>4</td>\n    </tr>\n    <tr>\n      <th>941</th>\n      <td>4.0</td>\n      <td>3.0</td>\n      <td>3.0</td>\n      <td>3.0</td>\n      <td>4.0</td>\n      <td>5.0</td>\n      <td>4.0</td>\n      <td>5.0</td>\n      <td>5.0</td>\n      <td>4.0</td>\n      <td>...</td>\n      <td>4</td>\n      <td>4</td>\n      <td>4</td>\n      <td>4</td>\n      <td>4</td>\n      <td>4</td>\n      <td>4</td>\n      <td>4</td>\n      <td>4</td>\n      <td>4</td>\n    </tr>\n    <tr>\n      <th>942</th>\n      <td>4.0</td>\n      <td>4.0</td>\n      <td>3.0</td>\n      <td>4.0</td>\n      <td>4.0</td>\n      <td>5.0</td>\n      <td>4.0</td>\n      <td>4.0</td>\n      <td>4.0</td>\n      <td>4.0</td>\n      <td>...</td>\n      <td>4</td>\n      <td>4</td>\n      <td>4</td>\n      <td>4</td>\n      <td>4</td>\n      <td>4</td>\n      <td>4</td>\n      <td>4</td>\n      <td>4</td>\n      <td>4</td>\n    </tr>\n    <tr>\n      <th>943</th>\n      <td>3.0</td>\n      <td>3.0</td>\n      <td>3.0</td>\n      <td>3.0</td>\n      <td>4.0</td>\n      <td>4.0</td>\n      <td>4.0</td>\n      <td>4.0</td>\n      <td>4.0</td>\n      <td>3.0</td>\n      <td>...</td>\n      <td>4</td>\n      <td>4</td>\n      <td>4</td>\n      <td>4</td>\n      <td>4</td>\n      <td>4</td>\n      <td>4</td>\n      <td>4</td>\n      <td>4</td>\n      <td>4</td>\n    </tr>\n  </tbody>\n</table>\n<p>943 rows × 1682 columns</p>\n</div>"
     },
     "execution_count": 16,
     "metadata": {},
     "output_type": "execute_result"
    }
   ],
   "source": [
    "result_df"
   ],
   "metadata": {
    "collapsed": false,
    "pycharm": {
     "name": "#%%\n"
    }
   }
  },
  {
   "cell_type": "code",
   "execution_count": 17,
   "outputs": [
    {
     "name": "stdout",
     "output_type": "stream",
     "text": [
      "time : 1076.2291750907898\n"
     ]
    }
   ],
   "source": [
    "with open(result_file_path, 'w') as file:\n",
    "    for a, b in result_df.stack().items():\n",
    "        user = a[0]\n",
    "        item = a[1]\n",
    "        rating = b\n",
    "        file.write(f\"{user}\\t{item}\\t{rating}\\n\")\n",
    "\n",
    "print(\"time :\", time.time() - start)  # 현재시각 - 시작시간 = 실행 시간"
   ],
   "metadata": {
    "collapsed": false,
    "pycharm": {
     "name": "#%%\n"
    }
   }
  },
  {
   "cell_type": "code",
   "execution_count": 18,
   "outputs": [
    {
     "name": "stdout",
     "output_type": "stream",
     "text": [
      "the number of ratings that didn't be predicted: 0\r\n",
      "the number of ratings that were unproperly predicted [ex. >=10, <0, NaN, or format errors]: 0\r\n",
      "If the counted number is large, please check your codes again.\r\n",
      "\r\n",
      "The bigger value means that the ratings are predicted more incorrectly\r\n",
      "RMSE: 1.073848\r\n"
     ]
    }
   ],
   "source": [
    "!mono ./test/PA4.exe ./test/u1"
   ],
   "metadata": {
    "collapsed": false,
    "pycharm": {
     "name": "#%%\n"
    }
   }
  },
  {
   "cell_type": "code",
   "execution_count": null,
   "outputs": [],
   "source": [],
   "metadata": {
    "collapsed": false,
    "pycharm": {
     "name": "#%%\n"
    }
   }
  },
  {
   "cell_type": "code",
   "execution_count": null,
   "outputs": [],
   "source": [
    "# for k in range(1, 200, 2):\n",
    "#     print(\"K:\", k)\n",
    "#     train_loss, test_loss, epoch = matrix_factorization(train_user_item_matrix, test_user_item_matrix, k)\n",
    "#     with open('./log/logs.txt', 'a') as file:\n",
    "#         file.write(f\"K: {k}\\ttrain_loss: {train_loss}\\ttest_loss: {test_loss}\\tepoch: {epoch}\\n\")"
   ],
   "metadata": {
    "collapsed": false,
    "pycharm": {
     "name": "#%%\n"
    }
   }
  },
  {
   "cell_type": "code",
   "execution_count": null,
   "outputs": [],
   "source": [
    "# def loguniform(low=0, high=1, size=None):\n",
    "#     return np.exp(np.random.uniform(low, high, size))"
   ],
   "metadata": {
    "collapsed": false,
    "pycharm": {
     "name": "#%%\n"
    }
   }
  },
  {
   "cell_type": "code",
   "execution_count": null,
   "outputs": [],
   "source": [
    "# for lmbd in np.log10(np.arange(1, 1.07, 0.005)):\n",
    "#     print(\"lambda:\", lmbd)\n"
   ],
   "metadata": {
    "collapsed": false,
    "pycharm": {
     "name": "#%%\n"
    }
   }
  },
  {
   "cell_type": "code",
   "execution_count": null,
   "outputs": [],
   "source": [
    "# from scipy.stats import loguniform\n",
    "# for k in range(1, 200, 2):\n",
    "#     for lmbd in np.log10(np.arange(1, 1.07, 0.005)):\n",
    "#         print(f\"K: {k}\\tlambda: {lmbd}\")\n",
    "#         train_loss, test_loss, epoch = matrix_factorization(train_user_item_matrix, test_user_item_matrix, k=k, lmbd=lmbd)\n",
    "#         with open('./log/logs.txt', 'a') as file:\n",
    "#             file.write(f\"K: {k}\\tlambda: {lmbd}\\ttrain_loss: {train_loss}\\ttest_loss: {test_loss}\\tepoch: {epoch}\\n\")"
   ],
   "metadata": {
    "collapsed": false,
    "pycharm": {
     "name": "#%%\n"
    }
   }
  },
  {
   "cell_type": "code",
   "execution_count": null,
   "outputs": [],
   "source": [
    "# for k in range(1, 200, 2):\n",
    "#     print(\"K:\", k)\n",
    "#     train_loss, test_loss, epoch = matrix_factorization(train_user_item_matrix, test_user_item_matrix, k)\n",
    "#     with open('./log/logs.txt', 'a') as file:\n",
    "#         file.write(f\"K: {k}\\ttrain_loss: {train_loss}\\ttest_loss: {test_loss}\\tepoch: {epoch}\\n\")"
   ],
   "metadata": {
    "collapsed": false,
    "pycharm": {
     "name": "#%%\n"
    }
   }
  },
  {
   "cell_type": "code",
   "execution_count": null,
   "outputs": [],
   "source": [
    "# train_loss, test_loss, epoch = matrix_factorization(train_user_item_matrix, test_user_item_matrix, k=)"
   ],
   "metadata": {
    "collapsed": false,
    "pycharm": {
     "name": "#%%\n"
    }
   }
  }
 ],
 "metadata": {
  "kernelspec": {
   "display_name": "Python 3",
   "language": "python",
   "name": "python3"
  },
  "language_info": {
   "codemirror_mode": {
    "name": "ipython",
    "version": 2
   },
   "file_extension": ".py",
   "mimetype": "text/x-python",
   "name": "python",
   "nbconvert_exporter": "python",
   "pygments_lexer": "ipython2",
   "version": "2.7.6"
  }
 },
 "nbformat": 4,
 "nbformat_minor": 0
}